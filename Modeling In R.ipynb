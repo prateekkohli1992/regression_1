{
 "cells": [
  {
   "cell_type": "code",
   "execution_count": 1,
   "metadata": {},
   "outputs": [],
   "source": [
    "df <- read.csv('Data/data_train.csv')"
   ]
  },
  {
   "cell_type": "code",
   "execution_count": 19,
   "metadata": {},
   "outputs": [
    {
     "name": "stderr",
     "output_type": "stream",
     "text": [
      "Warning message:\n",
      "\"package 'MASS' was built under R version 3.6.2\"Warning message:\n",
      "\"package 'tidyverse' was built under R version 3.6.2\"-- Attaching packages --------------------------------------- tidyverse 1.3.0 --\n",
      "v ggplot2 3.2.1     v purrr   0.3.3\n",
      "v tibble  2.1.3     v dplyr   0.8.4\n",
      "v tidyr   1.0.2     v stringr 1.4.0\n",
      "v readr   1.3.1     v forcats 0.4.0\n",
      "Warning message:\n",
      "\"package 'ggplot2' was built under R version 3.6.2\"Warning message:\n",
      "\"package 'tibble' was built under R version 3.6.2\"Warning message:\n",
      "\"package 'tidyr' was built under R version 3.6.2\"Warning message:\n",
      "\"package 'purrr' was built under R version 3.6.2\"Warning message:\n",
      "\"package 'dplyr' was built under R version 3.6.2\"-- Conflicts ------------------------------------------ tidyverse_conflicts() --\n",
      "x dplyr::filter() masks stats::filter()\n",
      "x dplyr::lag()    masks stats::lag()\n",
      "x dplyr::select() masks MASS::select()\n",
      "Warning message:\n",
      "\"package 'car' was built under R version 3.6.2\"Loading required package: carData\n",
      "\n",
      "Attaching package: 'car'\n",
      "\n",
      "The following object is masked from 'package:dplyr':\n",
      "\n",
      "    recode\n",
      "\n",
      "The following object is masked from 'package:purrr':\n",
      "\n",
      "    some\n",
      "\n",
      "Warning message:\n",
      "\"package 'perturb' was built under R version 3.6.2\"Warning message:\n",
      "\"package 'caret' was built under R version 3.6.2\"Loading required package: lattice\n",
      "\n",
      "Attaching package: 'caret'\n",
      "\n",
      "The following object is masked from 'package:purrr':\n",
      "\n",
      "    lift\n",
      "\n",
      "Warning message:\n",
      "\"package 'RANN' was built under R version 3.6.2\"Warning message:\n",
      "\"package 'bnstruct' was built under R version 3.6.2\"Loading required package: bitops\n",
      "Loading required package: Matrix\n",
      "\n",
      "Attaching package: 'Matrix'\n",
      "\n",
      "The following objects are masked from 'package:tidyr':\n",
      "\n",
      "    expand, pack, unpack\n",
      "\n",
      "Loading required package: igraph\n",
      "Warning message:\n",
      "\"package 'igraph' was built under R version 3.6.2\"\n",
      "Attaching package: 'igraph'\n",
      "\n",
      "The following objects are masked from 'package:dplyr':\n",
      "\n",
      "    as_data_frame, groups, union\n",
      "\n",
      "The following objects are masked from 'package:purrr':\n",
      "\n",
      "    compose, simplify\n",
      "\n",
      "The following object is masked from 'package:tidyr':\n",
      "\n",
      "    crossing\n",
      "\n",
      "The following object is masked from 'package:tibble':\n",
      "\n",
      "    as_data_frame\n",
      "\n",
      "The following objects are masked from 'package:stats':\n",
      "\n",
      "    decompose, spectrum\n",
      "\n",
      "The following object is masked from 'package:base':\n",
      "\n",
      "    union\n",
      "\n",
      "\n",
      "Attaching package: 'bnstruct'\n",
      "\n",
      "The following object is masked from 'package:tidyr':\n",
      "\n",
      "    complete\n",
      "\n",
      "Warning message:\n",
      "\"package 'DMwR' was built under R version 3.6.2\"Loading required package: grid\n",
      "Registered S3 method overwritten by 'xts':\n",
      "  method     from\n",
      "  as.zoo.xts zoo \n",
      "Registered S3 method overwritten by 'quantmod':\n",
      "  method            from\n",
      "  as.zoo.data.frame zoo \n",
      "\n",
      "Attaching package: 'DMwR'\n",
      "\n",
      "The following object is masked from 'package:bnstruct':\n",
      "\n",
      "    bootstrap\n",
      "\n",
      "Warning message:\n",
      "\"package 'psych' was built under R version 3.6.2\"\n",
      "Attaching package: 'psych'\n",
      "\n",
      "The following object is masked from 'package:car':\n",
      "\n",
      "    logit\n",
      "\n",
      "The following objects are masked from 'package:ggplot2':\n",
      "\n",
      "    %+%, alpha\n",
      "\n",
      "Warning message:\n",
      "\"package 'corrplot' was built under R version 3.6.2\"corrplot 0.84 loaded\n"
     ]
    }
   ],
   "source": [
    "library(MASS)\n",
    "library(tidyverse)\n",
    "library(car)\n",
    "library(perturb)\n",
    "library(corpcor)\n",
    "library(caret)\n",
    "library(RANN)\n",
    "library(bnstruct)\n",
    "library(DMwR)\n",
    "library(psych)\n",
    "library(corrplot)\n"
   ]
  },
  {
   "cell_type": "code",
   "execution_count": 6,
   "metadata": {},
   "outputs": [
    {
     "name": "stderr",
     "output_type": "stream",
     "text": [
      "also installing the dependencies 'ellipsis', 'vctrs', 'lifecycle', 'dbplyr', 'dplyr', 'ggplot2', 'haven', 'hms', 'httr', 'modelr', 'pillar', 'purrr', 'reprex', 'rlang', 'rvest', 'tibble', 'tidyr', 'xml2'\n",
      "\n"
     ]
    },
    {
     "name": "stdout",
     "output_type": "stream",
     "text": [
      "package 'ellipsis' successfully unpacked and MD5 sums checked\n",
      "package 'vctrs' successfully unpacked and MD5 sums checked\n",
      "package 'lifecycle' successfully unpacked and MD5 sums checked\n",
      "package 'dbplyr' successfully unpacked and MD5 sums checked\n",
      "package 'dplyr' successfully unpacked and MD5 sums checked\n",
      "package 'ggplot2' successfully unpacked and MD5 sums checked\n",
      "package 'haven' successfully unpacked and MD5 sums checked\n",
      "package 'hms' successfully unpacked and MD5 sums checked\n",
      "package 'httr' successfully unpacked and MD5 sums checked\n",
      "package 'modelr' successfully unpacked and MD5 sums checked\n",
      "package 'pillar' successfully unpacked and MD5 sums checked\n",
      "package 'purrr' successfully unpacked and MD5 sums checked\n",
      "package 'reprex' successfully unpacked and MD5 sums checked\n",
      "package 'rlang' successfully unpacked and MD5 sums checked\n",
      "package 'rvest' successfully unpacked and MD5 sums checked\n",
      "package 'tibble' successfully unpacked and MD5 sums checked\n",
      "package 'tidyr' successfully unpacked and MD5 sums checked\n",
      "package 'xml2' successfully unpacked and MD5 sums checked\n",
      "package 'tidyverse' successfully unpacked and MD5 sums checked\n",
      "\n",
      "The downloaded binary packages are in\n",
      "\tC:\\Users\\prateek\\AppData\\Local\\Temp\\RtmpiGVfa4\\downloaded_packages\n"
     ]
    }
   ],
   "source": [
    "install.packages(\"tidyverse\")"
   ]
  },
  {
   "cell_type": "code",
   "execution_count": 16,
   "metadata": {},
   "outputs": [
    {
     "name": "stdout",
     "output_type": "stream",
     "text": [
      "package 'corrplot' successfully unpacked and MD5 sums checked\n",
      "\n",
      "The downloaded binary packages are in\n",
      "\tC:\\Users\\prateek\\AppData\\Local\\Temp\\RtmpiGVfa4\\downloaded_packages\n"
     ]
    }
   ],
   "source": [
    "install.packages(\"corrplot\")"
   ]
  },
  {
   "cell_type": "code",
   "execution_count": 2,
   "metadata": {},
   "outputs": [
    {
     "data": {
      "text/html": [
       "<table>\n",
       "<thead><tr><th scope=col>X</th><th scope=col>symboling</th><th scope=col>fueltype</th><th scope=col>aspiration</th><th scope=col>doornumber</th><th scope=col>carbody</th><th scope=col>drivewheel</th><th scope=col>enginelocation</th><th scope=col>enginetype</th><th scope=col>cylindernumber</th><th scope=col>...</th><th scope=col>curbweight</th><th scope=col>enginesize</th><th scope=col>boreratio</th><th scope=col>stroke</th><th scope=col>compressionratio</th><th scope=col>horsepower</th><th scope=col>peakrpm</th><th scope=col>citympg</th><th scope=col>highwaympg</th><th scope=col>price</th></tr></thead>\n",
       "<tbody>\n",
       "\t<tr><td>100      </td><td>0        </td><td>gas      </td><td>std      </td><td>four     </td><td>sedan    </td><td>fwd      </td><td>front    </td><td>ohc      </td><td>four     </td><td>...      </td><td>2302     </td><td>120      </td><td>3.33     </td><td>3.47     </td><td>8.5      </td><td> 97      </td><td>5200     </td><td>27       </td><td>34       </td><td> 9549    </td></tr>\n",
       "\t<tr><td>151      </td><td>1        </td><td>gas      </td><td>std      </td><td>two      </td><td>hatchback</td><td>fwd      </td><td>front    </td><td>ohc      </td><td>four     </td><td>...      </td><td>2040     </td><td> 92      </td><td>3.05     </td><td>3.03     </td><td>9.0      </td><td> 62      </td><td>4800     </td><td>31       </td><td>38       </td><td> 6338    </td></tr>\n",
       "\t<tr><td>163      </td><td>1        </td><td>gas      </td><td>std      </td><td>two      </td><td>sedan    </td><td>rwd      </td><td>front    </td><td>ohc      </td><td>four     </td><td>...      </td><td>2169     </td><td> 98      </td><td>3.19     </td><td>3.03     </td><td>9.0      </td><td> 70      </td><td>4800     </td><td>29       </td><td>34       </td><td> 8058    </td></tr>\n",
       "\t<tr><td>146      </td><td>0        </td><td>gas      </td><td>std      </td><td>four     </td><td>wagon    </td><td>fwd      </td><td>front    </td><td>ohcf     </td><td>four     </td><td>...      </td><td>2290     </td><td>108      </td><td>3.62     </td><td>2.64     </td><td>9.0      </td><td> 82      </td><td>4800     </td><td>28       </td><td>32       </td><td> 7463    </td></tr>\n",
       "\t<tr><td> 16      </td><td>0        </td><td>gas      </td><td>std      </td><td>two      </td><td>sedan    </td><td>rwd      </td><td>front    </td><td>ohc      </td><td>six      </td><td>...      </td><td>3380     </td><td>209      </td><td>3.62     </td><td>3.39     </td><td>8.0      </td><td>182      </td><td>5400     </td><td>16       </td><td>22       </td><td>41315    </td></tr>\n",
       "\t<tr><td>122      </td><td>1        </td><td>gas      </td><td>std      </td><td>four     </td><td>sedan    </td><td>fwd      </td><td>front    </td><td>ohc      </td><td>four     </td><td>...      </td><td>2191     </td><td> 98      </td><td>2.97     </td><td>3.23     </td><td>9.4      </td><td> 68      </td><td>5500     </td><td>31       </td><td>38       </td><td> 7609    </td></tr>\n",
       "</tbody>\n",
       "</table>\n"
      ],
      "text/latex": [
       "\\begin{tabular}{r|llllllllllllllllllllllllll}\n",
       " X & symboling & fueltype & aspiration & doornumber & carbody & drivewheel & enginelocation & enginetype & cylindernumber & ... & curbweight & enginesize & boreratio & stroke & compressionratio & horsepower & peakrpm & citympg & highwaympg & price\\\\\n",
       "\\hline\n",
       "\t 100       & 0         & gas       & std       & four      & sedan     & fwd       & front     & ohc       & four      & ...       & 2302      & 120       & 3.33      & 3.47      & 8.5       &  97       & 5200      & 27        & 34        &  9549    \\\\\n",
       "\t 151       & 1         & gas       & std       & two       & hatchback & fwd       & front     & ohc       & four      & ...       & 2040      &  92       & 3.05      & 3.03      & 9.0       &  62       & 4800      & 31        & 38        &  6338    \\\\\n",
       "\t 163       & 1         & gas       & std       & two       & sedan     & rwd       & front     & ohc       & four      & ...       & 2169      &  98       & 3.19      & 3.03      & 9.0       &  70       & 4800      & 29        & 34        &  8058    \\\\\n",
       "\t 146       & 0         & gas       & std       & four      & wagon     & fwd       & front     & ohcf      & four      & ...       & 2290      & 108       & 3.62      & 2.64      & 9.0       &  82       & 4800      & 28        & 32        &  7463    \\\\\n",
       "\t  16       & 0         & gas       & std       & two       & sedan     & rwd       & front     & ohc       & six       & ...       & 3380      & 209       & 3.62      & 3.39      & 8.0       & 182       & 5400      & 16        & 22        & 41315    \\\\\n",
       "\t 122       & 1         & gas       & std       & four      & sedan     & fwd       & front     & ohc       & four      & ...       & 2191      &  98       & 2.97      & 3.23      & 9.4       &  68       & 5500      & 31        & 38        &  7609    \\\\\n",
       "\\end{tabular}\n"
      ],
      "text/markdown": [
       "\n",
       "| X | symboling | fueltype | aspiration | doornumber | carbody | drivewheel | enginelocation | enginetype | cylindernumber | ... | curbweight | enginesize | boreratio | stroke | compressionratio | horsepower | peakrpm | citympg | highwaympg | price |\n",
       "|---|---|---|---|---|---|---|---|---|---|---|---|---|---|---|---|---|---|---|---|---|\n",
       "| 100       | 0         | gas       | std       | four      | sedan     | fwd       | front     | ohc       | four      | ...       | 2302      | 120       | 3.33      | 3.47      | 8.5       |  97       | 5200      | 27        | 34        |  9549     |\n",
       "| 151       | 1         | gas       | std       | two       | hatchback | fwd       | front     | ohc       | four      | ...       | 2040      |  92       | 3.05      | 3.03      | 9.0       |  62       | 4800      | 31        | 38        |  6338     |\n",
       "| 163       | 1         | gas       | std       | two       | sedan     | rwd       | front     | ohc       | four      | ...       | 2169      |  98       | 3.19      | 3.03      | 9.0       |  70       | 4800      | 29        | 34        |  8058     |\n",
       "| 146       | 0         | gas       | std       | four      | wagon     | fwd       | front     | ohcf      | four      | ...       | 2290      | 108       | 3.62      | 2.64      | 9.0       |  82       | 4800      | 28        | 32        |  7463     |\n",
       "|  16       | 0         | gas       | std       | two       | sedan     | rwd       | front     | ohc       | six       | ...       | 3380      | 209       | 3.62      | 3.39      | 8.0       | 182       | 5400      | 16        | 22        | 41315     |\n",
       "| 122       | 1         | gas       | std       | four      | sedan     | fwd       | front     | ohc       | four      | ...       | 2191      |  98       | 2.97      | 3.23      | 9.4       |  68       | 5500      | 31        | 38        |  7609     |\n",
       "\n"
      ],
      "text/plain": [
       "  X   symboling fueltype aspiration doornumber carbody   drivewheel\n",
       "1 100 0         gas      std        four       sedan     fwd       \n",
       "2 151 1         gas      std        two        hatchback fwd       \n",
       "3 163 1         gas      std        two        sedan     rwd       \n",
       "4 146 0         gas      std        four       wagon     fwd       \n",
       "5  16 0         gas      std        two        sedan     rwd       \n",
       "6 122 1         gas      std        four       sedan     fwd       \n",
       "  enginelocation enginetype cylindernumber ... curbweight enginesize boreratio\n",
       "1 front          ohc        four           ... 2302       120        3.33     \n",
       "2 front          ohc        four           ... 2040        92        3.05     \n",
       "3 front          ohc        four           ... 2169        98        3.19     \n",
       "4 front          ohcf       four           ... 2290       108        3.62     \n",
       "5 front          ohc        six            ... 3380       209        3.62     \n",
       "6 front          ohc        four           ... 2191        98        2.97     \n",
       "  stroke compressionratio horsepower peakrpm citympg highwaympg price\n",
       "1 3.47   8.5               97        5200    27      34          9549\n",
       "2 3.03   9.0               62        4800    31      38          6338\n",
       "3 3.03   9.0               70        4800    29      34          8058\n",
       "4 2.64   9.0               82        4800    28      32          7463\n",
       "5 3.39   8.0              182        5400    16      22         41315\n",
       "6 3.23   9.4               68        5500    31      38          7609"
      ]
     },
     "metadata": {},
     "output_type": "display_data"
    }
   ],
   "source": [
    "head(df)"
   ]
  },
  {
   "cell_type": "code",
   "execution_count": 3,
   "metadata": {},
   "outputs": [],
   "source": [
    "df<-df[ -c(1) ]"
   ]
  },
  {
   "cell_type": "code",
   "execution_count": 4,
   "metadata": {},
   "outputs": [],
   "source": [
    "mod1 <- lm(price~.+compressionratio*fueltype,data=df)"
   ]
  },
  {
   "cell_type": "code",
   "execution_count": 5,
   "metadata": {},
   "outputs": [
    {
     "data": {
      "text/plain": [
       "\n",
       "Call:\n",
       "lm(formula = price ~ . + compressionratio * fueltype, data = df)\n",
       "\n",
       "Residuals:\n",
       "    Min      1Q  Median      3Q     Max \n",
       "-2905.3  -875.3    26.4   704.5  7318.8 \n",
       "\n",
       "Coefficients: (4 not defined because of singularities)\n",
       "                               Estimate Std. Error t value Pr(>|t|)    \n",
       "(Intercept)                  -5.248e+04  2.655e+04  -1.976 0.050816 .  \n",
       "symboling                    -2.918e+02  2.779e+02  -1.050 0.296153    \n",
       "fueltypegas                   3.338e+04  2.126e+04   1.570 0.119429    \n",
       "aspirationturbo               1.672e+03  1.075e+03   1.555 0.122940    \n",
       "doornumbertwo                -2.934e+02  5.594e+02  -0.525 0.601058    \n",
       "carbodyhardtop               -3.108e+03  1.333e+03  -2.332 0.021663 *  \n",
       "carbodyhatchback             -3.611e+03  1.216e+03  -2.969 0.003720 ** \n",
       "carbodysedan                 -2.648e+03  1.327e+03  -1.996 0.048571 *  \n",
       "carbodywagon                 -2.490e+03  1.435e+03  -1.735 0.085689 .  \n",
       "drivewheelfwd                 3.793e+02  1.034e+03   0.367 0.714486    \n",
       "drivewheelrwd                 7.536e+02  1.322e+03   0.570 0.569991    \n",
       "enginelocationrear            1.062e+04  3.638e+03   2.920 0.004312 ** \n",
       "enginetypedohcv              -1.680e+03  5.670e+03  -0.296 0.767598    \n",
       "enginetypel                  -1.551e+03  2.537e+03  -0.611 0.542262    \n",
       "enginetypeohc                 5.611e+02  1.495e+03   0.375 0.708173    \n",
       "enginetypeohcf               -1.148e+03  2.069e+03  -0.555 0.580221    \n",
       "enginetypeohcv               -1.909e+03  1.385e+03  -1.378 0.171108    \n",
       "enginetyperotor               8.063e+03  5.697e+03   1.415 0.160001    \n",
       "cylindernumberfive           -4.165e+03  3.812e+03  -1.093 0.277109    \n",
       "cylindernumberfour           -7.806e+02  4.471e+03  -0.175 0.861754    \n",
       "cylindernumbersix            -2.064e+03  3.428e+03  -0.602 0.548436    \n",
       "cylindernumberthree           7.090e+03  5.498e+03   1.290 0.200133    \n",
       "cylindernumbertwelve         -5.051e+03  6.248e+03  -0.808 0.420725    \n",
       "cylindernumbertwo                    NA         NA      NA       NA    \n",
       "fuelsystem2bbl                2.339e+03  1.562e+03   1.498 0.137278    \n",
       "fuelsystem4bbl                6.913e+02  2.956e+03   0.234 0.815563    \n",
       "fuelsystemidi                        NA         NA      NA       NA    \n",
       "fuelsystemmfi                -1.210e+03  2.820e+03  -0.429 0.668775    \n",
       "fuelsystemmpfi                1.261e+03  1.662e+03   0.759 0.449891    \n",
       "fuelsystemspdi               -5.640e+02  1.979e+03  -0.285 0.776184    \n",
       "fuelsystemspfi                2.968e+03  2.882e+03   1.030 0.305522    \n",
       "brandNameaudi                 2.233e+03  2.495e+03   0.895 0.372776    \n",
       "brandNamebmw                  7.874e+03  2.741e+03   2.873 0.004952 ** \n",
       "brandNamebuick                4.658e+03  3.023e+03   1.541 0.126389    \n",
       "brandNamechevrolet           -3.883e+03  2.375e+03  -1.635 0.105150    \n",
       "brandNamedodge               -4.671e+03  2.014e+03  -2.319 0.022397 *  \n",
       "brandNamehonda               -2.380e+03  2.283e+03  -1.042 0.299703    \n",
       "brandNameisuzu               -3.042e+03  2.254e+03  -1.350 0.180092    \n",
       "brandNamejaguar              -5.829e+02  3.465e+03  -0.168 0.866715    \n",
       "brandNamemaxda               -3.652e+03  2.607e+03  -1.401 0.164374    \n",
       "brandNamemazda               -1.719e+03  1.914e+03  -0.898 0.371094    \n",
       "brandNamemercury             -1.401e+03  3.200e+03  -0.438 0.662337    \n",
       "brandNamemitsubishi          -4.536e+03  2.046e+03  -2.218 0.028800 *  \n",
       "brandNamenissan              -2.622e+03  1.803e+03  -1.454 0.148881    \n",
       "brandNamepeugeot                     NA         NA      NA       NA    \n",
       "brandNameplymouth            -4.657e+03  1.981e+03  -2.351 0.020637 *  \n",
       "brandNameporsche              4.854e+03  3.174e+03   1.529 0.129313    \n",
       "brandNamerenault             -3.915e+03  2.391e+03  -1.637 0.104674    \n",
       "brandNamesaab                 2.295e+03  2.482e+03   0.925 0.357176    \n",
       "brandNamesubaru                      NA         NA      NA       NA    \n",
       "brandNametoyota              -2.350e+03  1.713e+03  -1.372 0.173162    \n",
       "brandNamevolkswagen          -1.627e+03  1.960e+03  -0.830 0.408474    \n",
       "brandNamevolvo               -6.426e+02  2.441e+03  -0.263 0.792889    \n",
       "wheelbase                     6.783e+01  1.200e+02   0.565 0.573252    \n",
       "carlength                    -1.237e+02  5.564e+01  -2.223 0.028398 *  \n",
       "carwidth                      7.517e+02  2.633e+02   2.855 0.005214 ** \n",
       "carheight                    -2.551e+02  1.583e+02  -1.612 0.110113    \n",
       "curbweight                    4.495e+00  1.882e+00   2.389 0.018744 *  \n",
       "enginesize                    1.209e+02  3.358e+01   3.601 0.000492 ***\n",
       "boreratio                    -3.998e+03  2.044e+03  -1.956 0.053202 .  \n",
       "stroke                       -4.567e+02  1.195e+03  -0.382 0.703145    \n",
       "compressionratio              1.099e+03  1.012e+03   1.086 0.280083    \n",
       "horsepower                   -4.742e+00  2.984e+01  -0.159 0.874056    \n",
       "peakrpm                       2.196e+00  7.309e-01   3.005 0.003346 ** \n",
       "citympg                       1.344e+02  1.687e+02   0.797 0.427385    \n",
       "highwaympg                   -7.460e+01  1.546e+02  -0.482 0.630554    \n",
       "fueltypegas:compressionratio -2.186e+03  9.585e+02  -2.280 0.024664 *  \n",
       "---\n",
       "Signif. codes:  0 '***' 0.001 '**' 0.01 '*' 0.05 '.' 0.1 ' ' 1\n",
       "\n",
       "Residual standard error: 1738 on 102 degrees of freedom\n",
       "Multiple R-squared:  0.9705,\tAdjusted R-squared:  0.9525 \n",
       "F-statistic: 54.08 on 62 and 102 DF,  p-value: < 2.2e-16\n"
      ]
     },
     "metadata": {},
     "output_type": "display_data"
    }
   ],
   "source": [
    "summary(mod1)"
   ]
  },
  {
   "cell_type": "code",
   "execution_count": 22,
   "metadata": {},
   "outputs": [],
   "source": [
    "StudentResidualPlot <- function(model, comment){\n",
    "  stu.resid <- studres(model)  \n",
    "  hist(stu.resid, freq=FALSE,     \n",
    "       main=comment) \n",
    "  xfit<-seq(min(stu.resid),max(stu.resid),length=80)  \n",
    "  yfit<-dnorm(xfit)  \n",
    "  lines(xfit, yfit)\n",
    "  \n",
    "}\n",
    "\n",
    "\n",
    "CustRPlot<- function(model){\n",
    "  residualPlot(model, id.n=5)\n",
    "  residualPlots(model,id.n=3)\n",
    "}"
   ]
  },
  {
   "cell_type": "code",
   "execution_count": 25,
   "metadata": {},
   "outputs": [],
   "source": [
    "par(mfrow = c(2,2))"
   ]
  },
  {
   "cell_type": "code",
   "execution_count": 27,
   "metadata": {},
   "outputs": [
    {
     "name": "stderr",
     "output_type": "stream",
     "text": [
      "Warning message:\n",
      "\"not plotting observations with leverage one:\n",
      "  47, 58, 76, 77, 83, 85, 104, 156, 158, 165\"Warning message in png(tf, width, height, \"in\", pointsize, bg, res, antialias = antialias):\n",
      "\"unable to open file 'C:\\Users\\prateek\\AppData\\Local\\Temp\\RtmpiGVfa4\\file311c4c238e2.png' for writing\"Warning message in png(tf, width, height, \"in\", pointsize, bg, res, antialias = antialias):\n",
      "\"opening device failed\""
     ]
    },
    {
     "ename": "ERROR",
     "evalue": "Error in png(tf, width, height, \"in\", pointsize, bg, res, antialias = antialias): unable to start png() device\n",
     "output_type": "error",
     "traceback": [
      "Error in png(tf, width, height, \"in\", pointsize, bg, res, antialias = antialias): unable to start png() device\nTraceback:\n",
      "1. plot(mod1)",
      "2. plot.lm(mod1)",
      "3. plot(yhn0, sqrtabsr, xlab = l.fit, ylab = yl, main = main, ylim = ylim, \n .     type = \"n\", ...)",
      "4. plot.default(yhn0, sqrtabsr, xlab = l.fit, ylab = yl, main = main, \n .     ylim = ylim, type = \"n\", ...)",
      "5. plot.new()",
      "6. try(fun())",
      "7. tryCatch(expr, error = function(e) {\n .     call <- conditionCall(e)\n .     if (!is.null(call)) {\n .         if (identical(call[[1L]], quote(doTryCatch))) \n .             call <- sys.call(-4L)\n .         dcall <- deparse(call)[1L]\n .         prefix <- paste(\"Error in\", dcall, \": \")\n .         LONG <- 75L\n .         sm <- strsplit(conditionMessage(e), \"\\n\")[[1L]]\n .         w <- 14L + nchar(dcall, type = \"w\") + nchar(sm[1L], type = \"w\")\n .         if (is.na(w)) \n .             w <- 14L + nchar(dcall, type = \"b\") + nchar(sm[1L], \n .                 type = \"b\")\n .         if (w > LONG) \n .             prefix <- paste0(prefix, \"\\n  \")\n .     }\n .     else prefix <- \"Error : \"\n .     msg <- paste0(prefix, conditionMessage(e), \"\\n\")\n .     .Internal(seterrmessage(msg[1L]))\n .     if (!silent && isTRUE(getOption(\"show.error.messages\"))) {\n .         cat(msg, file = outFile)\n .         .Internal(printDeferredWarnings())\n .     }\n .     invisible(structure(msg, class = \"try-error\", condition = e))\n . })",
      "8. tryCatchList(expr, classes, parentenv, handlers)",
      "9. tryCatchOne(expr, names, parentenv, handlers[[1L]])",
      "10. doTryCatch(return(expr), name, parentenv, handler)",
      "11. fun()",
      "12. handle_output(TRUE)",
      "13. w$get_new(plot, incomplete_plots, output_handler$text, output_handler$graphics)",
      "14. graphics_callback(out$graphics)",
      "15. send_plot(last_recorded_plot)",
      "16. tryCatch({\n  .     formats[[mime]] <- mime2repr[[mime]](plotobj, attr(plotobj, \n  .         \".irkernel_width\"), attr(plotobj, \".irkernel_height\"))\n  . }, error = handle_error)"
     ]
    },
    {
     "data": {
      "text/plain": [
       "Plot with title \"\""
      ]
     },
     "metadata": {},
     "output_type": "display_data"
    },
    {
     "name": "stderr",
     "output_type": "stream",
     "text": [
      "Warning message:\n",
      "\"not plotting observations with leverage one:\n",
      "  47, 58, 76, 77, 83, 85, 104, 156, 158, 165\"Warning message in png(tf, width, height, \"in\", pointsize, bg, res, antialias = antialias):\n",
      "\"unable to open file 'C:\\Users\\prateek\\AppData\\Local\\Temp\\RtmpiGVfa4\\file311c4fa8660a.png' for writing\"Warning message in png(tf, width, height, \"in\", pointsize, bg, res, antialias = antialias):\n",
      "\"opening device failed\""
     ]
    },
    {
     "ename": "ERROR",
     "evalue": "Error in png(tf, width, height, \"in\", pointsize, bg, res, antialias = antialias): unable to start png() device\n",
     "output_type": "error",
     "traceback": [
      "Error in png(tf, width, height, \"in\", pointsize, bg, res, antialias = antialias): unable to start png() device\nTraceback:\n",
      "1. plot(mod1)",
      "2. plot.lm(mod1)",
      "3. plot(xx, rsp, xlim = c(0, max(xx, na.rm = TRUE)), ylim = ylim, \n .     main = main, xlab = \"Leverage\", ylab = ylab5, type = \"n\", \n .     ...)",
      "4. plot.default(xx, rsp, xlim = c(0, max(xx, na.rm = TRUE)), ylim = ylim, \n .     main = main, xlab = \"Leverage\", ylab = ylab5, type = \"n\", \n .     ...)",
      "5. plot.new()",
      "6. try(fun())",
      "7. tryCatch(expr, error = function(e) {\n .     call <- conditionCall(e)\n .     if (!is.null(call)) {\n .         if (identical(call[[1L]], quote(doTryCatch))) \n .             call <- sys.call(-4L)\n .         dcall <- deparse(call)[1L]\n .         prefix <- paste(\"Error in\", dcall, \": \")\n .         LONG <- 75L\n .         sm <- strsplit(conditionMessage(e), \"\\n\")[[1L]]\n .         w <- 14L + nchar(dcall, type = \"w\") + nchar(sm[1L], type = \"w\")\n .         if (is.na(w)) \n .             w <- 14L + nchar(dcall, type = \"b\") + nchar(sm[1L], \n .                 type = \"b\")\n .         if (w > LONG) \n .             prefix <- paste0(prefix, \"\\n  \")\n .     }\n .     else prefix <- \"Error : \"\n .     msg <- paste0(prefix, conditionMessage(e), \"\\n\")\n .     .Internal(seterrmessage(msg[1L]))\n .     if (!silent && isTRUE(getOption(\"show.error.messages\"))) {\n .         cat(msg, file = outFile)\n .         .Internal(printDeferredWarnings())\n .     }\n .     invisible(structure(msg, class = \"try-error\", condition = e))\n . })",
      "8. tryCatchList(expr, classes, parentenv, handlers)",
      "9. tryCatchOne(expr, names, parentenv, handlers[[1L]])",
      "10. doTryCatch(return(expr), name, parentenv, handler)",
      "11. fun()",
      "12. handle_output(TRUE)",
      "13. w$get_new(plot, incomplete_plots, output_handler$text, output_handler$graphics)",
      "14. graphics_callback(out$graphics)",
      "15. send_plot(last_recorded_plot)",
      "16. tryCatch({\n  .     formats[[mime]] <- mime2repr[[mime]](plotobj, attr(plotobj, \n  .         \".irkernel_width\"), attr(plotobj, \".irkernel_height\"))\n  . }, error = handle_error)"
     ]
    },
    {
     "data": {
      "text/plain": [
       "Plot with title \"\""
      ]
     },
     "metadata": {},
     "output_type": "display_data"
    },
    {
     "ename": "ERROR",
     "evalue": "Error in png(tf, width, height, \"in\", pointsize, bg, res, antialias = antialias): unable to start png() device\n",
     "output_type": "error",
     "traceback": [
      "Error in png(tf, width, height, \"in\", pointsize, bg, res, antialias = antialias): unable to start png() device\nTraceback:\n"
     ]
    },
    {
     "data": {
      "text/plain": [
       "Plot with title \"\""
      ]
     },
     "metadata": {},
     "output_type": "display_data"
    },
    {
     "ename": "ERROR",
     "evalue": "Error in png(tf, width, height, \"in\", pointsize, bg, res, antialias = antialias): unable to start png() device\n",
     "output_type": "error",
     "traceback": [
      "Error in png(tf, width, height, \"in\", pointsize, bg, res, antialias = antialias): unable to start png() device\nTraceback:\n"
     ]
    },
    {
     "data": {
      "text/plain": [
       "Plot with title \"\""
      ]
     },
     "metadata": {},
     "output_type": "display_data"
    }
   ],
   "source": [
    "plot(mod1)"
   ]
  },
  {
   "cell_type": "code",
   "execution_count": null,
   "metadata": {},
   "outputs": [],
   "source": []
  }
 ],
 "metadata": {
  "kernelspec": {
   "display_name": "R",
   "language": "R",
   "name": "ir"
  },
  "language_info": {
   "codemirror_mode": "r",
   "file_extension": ".r",
   "mimetype": "text/x-r-source",
   "name": "R",
   "pygments_lexer": "r",
   "version": "3.6.1"
  }
 },
 "nbformat": 4,
 "nbformat_minor": 4
}

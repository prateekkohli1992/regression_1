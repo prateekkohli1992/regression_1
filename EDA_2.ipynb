{
 "cells": [
  {
   "cell_type": "code",
   "execution_count": 1,
   "metadata": {},
   "outputs": [],
   "source": [
    "import pandas as pd\n",
    "import numpy as np\n",
    "from scipy.stats import pearsonr\n",
    "\n",
    "import seaborn as sns\n",
    "import matplotlib.pyplot as plt\n",
    "%matplotlib inline\n",
    "\n",
    "def corrfunc(x,y, ax=None, **kws):\n",
    "    \"\"\"Plot the correlation coefficient in the top left hand corner of a plot.\"\"\"\n",
    "    r, _ = pearsonr(x, y)\n",
    "    ax = ax or plt.gca()\n",
    "    # Unicode for lowercase rho (ρ)\n",
    "    rho = '\\u03C1'\n",
    "    ax.annotate(f'{rho} = {r:.2f}', xy=(.1, .9), xycoords=ax.transAxes)\n",
    "\t\n",
    "data = pd.read_csv(\"Data\\CarPrice_Assignment.csv\")\n",
    "\n",
    "data[['symboling']]=data[['symboling']].astype('category')\n",
    "\n",
    "data['brandName']=data['CarName'].apply(lambda x:x.split(' ')[0].lower().strip())\n",
    "\n",
    "data.loc[(data['brandName']=='vw' )| (data['brandName']=='vokswagen'),'brandName']='volkswagen'\n",
    "\n",
    "\n",
    "data.loc[(data['brandName']=='porcshce')|(data['brandName']=='porsche'),'brandName']='porsche'\n",
    "\n",
    "data.loc[(data['brandName']=='toyouta' ),'brandName']='toyota'\n",
    "\n",
    "data_num=data.select_dtypes(include=[np.number])\n",
    "\n",
    "data_num=data_num.iloc[:,1:]\n",
    "\n",
    "data_cat=data.select_dtypes(exclude=[np.number])"
   ]
  },
  {
   "cell_type": "code",
   "execution_count": null,
   "metadata": {},
   "outputs": [],
   "source": [
    "g = sns.pairplot(data_num)\n",
    "g.map_lower(corrfunc)\n",
    "\n",
    "\n",
    "g.savefig('scatter2.png', dpi=300)"
   ]
  },
  {
   "cell_type": "code",
   "execution_count": null,
   "metadata": {},
   "outputs": [],
   "source": [
    "data_num.columns\n",
    "\n",
    "data_num2=data_num[['wheelbase','carheight','boreratio','stroke','compressionratio','horsepower','peakrpm','citympg','price']]\n",
    "\n",
    "g2 = sns.pairplot(data_num2)\n",
    "g2.map_lower(corrfunc)\n",
    "g2.savefig('scatter3.png', dpi=300)"
   ]
  },
  {
   "cell_type": "code",
   "execution_count": null,
   "metadata": {},
   "outputs": [],
   "source": [
    "fig,ax = plt.subplots(ncols=2,figsize=(16, 6))\n",
    "sns.boxplot(data = data, x='symboling', y='price',ax=ax[0])\n",
    "sns.violinplot(data = data, x='symboling', y='price',ax=ax[1])\n",
    "plt.show()"
   ]
  },
  {
   "cell_type": "code",
   "execution_count": null,
   "metadata": {},
   "outputs": [],
   "source": [
    "fig,ax = plt.subplots(nrows=2,figsize=(20, 10))\n",
    "sns.boxplot(data = data, x='brandName', y='price',ax=ax[0])\n",
    "sns.violinplot(data = data, x='brandName', y='price',ax=ax[1])\n",
    "plt.show()"
   ]
  },
  {
   "cell_type": "code",
   "execution_count": null,
   "metadata": {},
   "outputs": [],
   "source": [
    "fig,ax = plt.subplots(ncols=2,figsize=(16, 6))\n",
    "sns.boxplot(data = data, x='fueltype', y='price',ax=ax[0])\n",
    "sns.violinplot(data = data, x='fueltype', y='price',ax=ax[1])\n",
    "plt.show()"
   ]
  },
  {
   "cell_type": "code",
   "execution_count": null,
   "metadata": {},
   "outputs": [],
   "source": [
    "fig,ax = plt.subplots(ncols=2,figsize=(16, 6))\n",
    "sns.boxplot(data = data, x='aspiration', y='price',ax=ax[0])\n",
    "sns.violinplot(data = data, x='aspiration', y='price',ax=ax[1])\n",
    "plt.show()"
   ]
  },
  {
   "cell_type": "code",
   "execution_count": null,
   "metadata": {},
   "outputs": [],
   "source": [
    "fig,ax = plt.subplots(ncols=2,figsize=(16, 6))\n",
    "sns.boxplot(data = data, x='doornumber', y='price',ax=ax[0])\n",
    "sns.violinplot(data = data, x='doornumber', y='price',ax=ax[1])\n",
    "plt.show()\n"
   ]
  },
  {
   "cell_type": "code",
   "execution_count": null,
   "metadata": {},
   "outputs": [],
   "source": [
    "fig,ax = plt.subplots(ncols=2,figsize=(16, 6))\n",
    "sns.boxplot(data = data, x='carbody', y='price',ax=ax[0])\n",
    "sns.violinplot(data = data, x='carbody', y='price',ax=ax[1])\n",
    "plt.show()"
   ]
  },
  {
   "cell_type": "code",
   "execution_count": null,
   "metadata": {},
   "outputs": [],
   "source": [
    "fig,ax = plt.subplots(ncols=2,figsize=(16, 6))\n",
    "sns.boxplot(data = data, x='drivewheel', y='price',ax=ax[0])\n",
    "sns.violinplot(data = data, x='drivewheel', y='price',ax=ax[1])\n",
    "plt.show()"
   ]
  },
  {
   "cell_type": "code",
   "execution_count": null,
   "metadata": {},
   "outputs": [],
   "source": [
    "#only 3 cars in rear that of porche. variable might not be that usable\n",
    "\n",
    "fig,ax = plt.subplots(ncols=2,figsize=(16, 6))\n",
    "sns.boxplot(data = data, x='enginelocation', y='price',ax=ax[0])\n",
    "sns.violinplot(data = data, x='enginelocation', y='price',ax=ax[1])\n",
    "plt.show()"
   ]
  },
  {
   "cell_type": "code",
   "execution_count": null,
   "metadata": {},
   "outputs": [],
   "source": [
    "datax=data[['drivewheel','enginelocation']]\n",
    "\n",
    "datax['num1']=1\n",
    "\n",
    "datax.pivot_table(values='num1',index='drivewheel', columns='enginelocation', aggfunc='sum')"
   ]
  },
  {
   "cell_type": "code",
   "execution_count": null,
   "metadata": {},
   "outputs": [],
   "source": [
    "\n",
    "datax=data[['brandName','enginelocation']]\n",
    "datax['num1']=1\n",
    "\n",
    "datax.pivot_table(values='num1',index='brandName', columns='enginelocation', aggfunc='sum').dropna()"
   ]
  }
 ],
 "metadata": {
  "kernelspec": {
   "display_name": "Python 3",
   "language": "python",
   "name": "python3"
  },
  "language_info": {
   "codemirror_mode": {
    "name": "ipython",
    "version": 3
   },
   "file_extension": ".py",
   "mimetype": "text/x-python",
   "name": "python",
   "nbconvert_exporter": "python",
   "pygments_lexer": "ipython3",
   "version": "3.6.5"
  }
 },
 "nbformat": 4,
 "nbformat_minor": 2
}
